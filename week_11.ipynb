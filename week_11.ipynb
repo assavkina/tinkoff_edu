{
 "cells": [
  {
   "cell_type": "markdown",
   "metadata": {},
   "source": [
    "### Основная цель: построить модель, которая будет предсказывать вероятность закрытия кредита раньше половины срока\n",
    "\n",
    "\n",
    "Описание переменных :\n",
    "\n",
    "account_rk - уникальный номер кредитного счета\n",
    "\n",
    "utilization_dt - дата начала использования кредита\n",
    "\n",
    "credit_type - тип кредита\n",
    "\n",
    "duration - текущий срок жизни кредита\n",
    "\n",
    "deb_coming - сумма поступлений на дебетовую карту\n",
    "\n",
    "deb_transactions - сумма транзакций с дебетовой карты\n",
    "\n",
    "insurance_payment - платежи по страховке\n",
    "\n",
    "mob_days - кол-во дней, в которых использовалось мобильное приложение\n",
    "\n",
    "tarif_type - тип тарифа\n",
    "\n",
    "monthly_income_amt - доход\n",
    "\n",
    "rp - размер регулярного платежа по кредиту\n",
    "\n",
    "initial_term - изначальный срок по кредиту\n",
    "\n",
    "sum_approved - одобренная сумма кредита\n",
    "\n",
    "approv_vs_request - отношение одобренной суммы к запрошенной\n",
    "\n",
    "loyalty_coeff - коэффициент лояльности клиента\n",
    "\n",
    "segment - сегмент\n",
    "\n",
    "closed_flg - флаг закрытия кредита\n",
    "\n",
    "pd_model_new_norm- вероятность дефолта кредита"
   ]
  },
  {
   "cell_type": "code",
   "execution_count": 1,
   "metadata": {},
   "outputs": [],
   "source": [
    "import pandas as pd\n",
    "import datetime\n",
    "import matplotlib.pyplot as plt\n",
    "import numpy as np\n",
    "\n",
    "from sklearn.model_selection import train_test_split\n",
    "from sklearn.model_selection import GridSearchCV, cross_val_score\n",
    "from sklearn.ensemble import RandomForestClassifier\n",
    "from sklearn.metrics import classification_report, confusion_matrix, accuracy_score\n",
    "from sklearn.metrics import precision_recall_curve\n",
    "from sklearn.metrics import auc\n",
    "import sklearn.metrics as metrics"
   ]
  },
  {
   "cell_type": "code",
   "execution_count": 2,
   "metadata": {},
   "outputs": [
    {
     "data": {
      "text/html": [
       "<div>\n",
       "<style scoped>\n",
       "    .dataframe tbody tr th:only-of-type {\n",
       "        vertical-align: middle;\n",
       "    }\n",
       "\n",
       "    .dataframe tbody tr th {\n",
       "        vertical-align: top;\n",
       "    }\n",
       "\n",
       "    .dataframe thead th {\n",
       "        text-align: right;\n",
       "    }\n",
       "</style>\n",
       "<table border=\"1\" class=\"dataframe\">\n",
       "  <thead>\n",
       "    <tr style=\"text-align: right;\">\n",
       "      <th></th>\n",
       "      <th>account_rk</th>\n",
       "      <th>utilization_dt</th>\n",
       "      <th>credit_type</th>\n",
       "      <th>duration</th>\n",
       "      <th>deb_coming</th>\n",
       "      <th>deb_transactions</th>\n",
       "      <th>insurance_payment</th>\n",
       "      <th>mob_days</th>\n",
       "      <th>tarif_type</th>\n",
       "      <th>monthly_income_amt</th>\n",
       "      <th>rp</th>\n",
       "      <th>initial_term</th>\n",
       "      <th>sum_approved</th>\n",
       "      <th>approv_vs_request</th>\n",
       "      <th>loyalty_coeff</th>\n",
       "      <th>segment</th>\n",
       "      <th>closed_flg</th>\n",
       "      <th>pd_model</th>\n",
       "    </tr>\n",
       "  </thead>\n",
       "  <tbody>\n",
       "    <tr>\n",
       "      <th>47242</th>\n",
       "      <td>289097.0</td>\n",
       "      <td>2018-09-23</td>\n",
       "      <td>1</td>\n",
       "      <td>21.0</td>\n",
       "      <td>40814.0</td>\n",
       "      <td>-7191.0</td>\n",
       "      <td>0.0</td>\n",
       "      <td>10.0</td>\n",
       "      <td>one</td>\n",
       "      <td>103492.0</td>\n",
       "      <td>21716.0</td>\n",
       "      <td>36.0</td>\n",
       "      <td>530000.0</td>\n",
       "      <td>1.722223</td>\n",
       "      <td>0.0000</td>\n",
       "      <td>4.0</td>\n",
       "      <td>0.0</td>\n",
       "      <td>0.035133</td>\n",
       "    </tr>\n",
       "    <tr>\n",
       "      <th>122948</th>\n",
       "      <td>393796.0</td>\n",
       "      <td>2019-11-27</td>\n",
       "      <td>1</td>\n",
       "      <td>12.0</td>\n",
       "      <td>76528.0</td>\n",
       "      <td>12532.0</td>\n",
       "      <td>0.0</td>\n",
       "      <td>23.0</td>\n",
       "      <td>not_one</td>\n",
       "      <td>80094.0</td>\n",
       "      <td>11486.0</td>\n",
       "      <td>32.0</td>\n",
       "      <td>225000.0</td>\n",
       "      <td>-0.663957</td>\n",
       "      <td>0.0000</td>\n",
       "      <td>4.0</td>\n",
       "      <td>0.0</td>\n",
       "      <td>0.026019</td>\n",
       "    </tr>\n",
       "    <tr>\n",
       "      <th>201566</th>\n",
       "      <td>539112.0</td>\n",
       "      <td>2020-09-25</td>\n",
       "      <td>1</td>\n",
       "      <td>1.0</td>\n",
       "      <td>49854.0</td>\n",
       "      <td>28671.0</td>\n",
       "      <td>0.0</td>\n",
       "      <td>31.0</td>\n",
       "      <td>one</td>\n",
       "      <td>94485.0</td>\n",
       "      <td>17008.0</td>\n",
       "      <td>38.0</td>\n",
       "      <td>280000.0</td>\n",
       "      <td>-0.675823</td>\n",
       "      <td>0.2306</td>\n",
       "      <td>4.0</td>\n",
       "      <td>0.0</td>\n",
       "      <td>0.005385</td>\n",
       "    </tr>\n",
       "    <tr>\n",
       "      <th>27012</th>\n",
       "      <td>261769.0</td>\n",
       "      <td>2018-07-11</td>\n",
       "      <td>1</td>\n",
       "      <td>28.0</td>\n",
       "      <td>-6453.0</td>\n",
       "      <td>8454.0</td>\n",
       "      <td>0.0</td>\n",
       "      <td>3.0</td>\n",
       "      <td>not_one</td>\n",
       "      <td>63285.0</td>\n",
       "      <td>8925.0</td>\n",
       "      <td>38.0</td>\n",
       "      <td>230000.0</td>\n",
       "      <td>3.689388</td>\n",
       "      <td>0.0000</td>\n",
       "      <td>4.0</td>\n",
       "      <td>0.0</td>\n",
       "      <td>0.014340</td>\n",
       "    </tr>\n",
       "    <tr>\n",
       "      <th>94025</th>\n",
       "      <td>350912.0</td>\n",
       "      <td>2019-05-28</td>\n",
       "      <td>1</td>\n",
       "      <td>5.0</td>\n",
       "      <td>11070.0</td>\n",
       "      <td>-9936.0</td>\n",
       "      <td>0.0</td>\n",
       "      <td>19.0</td>\n",
       "      <td>one</td>\n",
       "      <td>66232.0</td>\n",
       "      <td>9990.0</td>\n",
       "      <td>39.0</td>\n",
       "      <td>155000.0</td>\n",
       "      <td>-0.276433</td>\n",
       "      <td>0.0000</td>\n",
       "      <td>4.0</td>\n",
       "      <td>0.0</td>\n",
       "      <td>0.059922</td>\n",
       "    </tr>\n",
       "  </tbody>\n",
       "</table>\n",
       "</div>"
      ],
      "text/plain": [
       "        account_rk utilization_dt  credit_type  duration  deb_coming  \\\n",
       "47242     289097.0     2018-09-23            1      21.0     40814.0   \n",
       "122948    393796.0     2019-11-27            1      12.0     76528.0   \n",
       "201566    539112.0     2020-09-25            1       1.0     49854.0   \n",
       "27012     261769.0     2018-07-11            1      28.0     -6453.0   \n",
       "94025     350912.0     2019-05-28            1       5.0     11070.0   \n",
       "\n",
       "        deb_transactions  insurance_payment  mob_days tarif_type  \\\n",
       "47242            -7191.0                0.0      10.0        one   \n",
       "122948           12532.0                0.0      23.0    not_one   \n",
       "201566           28671.0                0.0      31.0        one   \n",
       "27012             8454.0                0.0       3.0    not_one   \n",
       "94025            -9936.0                0.0      19.0        one   \n",
       "\n",
       "        monthly_income_amt       rp  initial_term  sum_approved  \\\n",
       "47242             103492.0  21716.0          36.0      530000.0   \n",
       "122948             80094.0  11486.0          32.0      225000.0   \n",
       "201566             94485.0  17008.0          38.0      280000.0   \n",
       "27012              63285.0   8925.0          38.0      230000.0   \n",
       "94025              66232.0   9990.0          39.0      155000.0   \n",
       "\n",
       "        approv_vs_request  loyalty_coeff  segment  closed_flg  pd_model  \n",
       "47242            1.722223         0.0000      4.0         0.0  0.035133  \n",
       "122948          -0.663957         0.0000      4.0         0.0  0.026019  \n",
       "201566          -0.675823         0.2306      4.0         0.0  0.005385  \n",
       "27012            3.689388         0.0000      4.0         0.0  0.014340  \n",
       "94025           -0.276433         0.0000      4.0         0.0  0.059922  "
      ]
     },
     "execution_count": 2,
     "metadata": {},
     "output_type": "execute_result"
    }
   ],
   "source": [
    "dt = pd.read_csv('week 11.csv', sep=';', index_col=0)\n",
    "dt.head()"
   ]
  },
  {
   "cell_type": "code",
   "execution_count": 3,
   "metadata": {},
   "outputs": [
    {
     "name": "stdout",
     "output_type": "stream",
     "text": [
      "<class 'pandas.core.frame.DataFrame'>\n",
      "Int64Index: 209806 entries, 47242 to 86893\n",
      "Data columns (total 18 columns):\n",
      " #   Column              Non-Null Count   Dtype  \n",
      "---  ------              --------------   -----  \n",
      " 0   account_rk          209806 non-null  float64\n",
      " 1   utilization_dt      209806 non-null  object \n",
      " 2   credit_type         209806 non-null  int64  \n",
      " 3   duration            209806 non-null  float64\n",
      " 4   deb_coming          209806 non-null  float64\n",
      " 5   deb_transactions    209806 non-null  float64\n",
      " 6   insurance_payment   209806 non-null  float64\n",
      " 7   mob_days            209806 non-null  float64\n",
      " 8   tarif_type          209806 non-null  object \n",
      " 9   monthly_income_amt  209645 non-null  float64\n",
      " 10  rp                  209806 non-null  float64\n",
      " 11  initial_term        209806 non-null  float64\n",
      " 12  sum_approved        209806 non-null  float64\n",
      " 13  approv_vs_request   209730 non-null  float64\n",
      " 14  loyalty_coeff       209806 non-null  float64\n",
      " 15  segment             200828 non-null  float64\n",
      " 16  closed_flg          209806 non-null  float64\n",
      " 17  pd_model            209766 non-null  float64\n",
      "dtypes: float64(15), int64(1), object(2)\n",
      "memory usage: 30.4+ MB\n"
     ]
    }
   ],
   "source": [
    "dt.info()"
   ]
  },
  {
   "cell_type": "code",
   "execution_count": 4,
   "metadata": {},
   "outputs": [],
   "source": [
    "dt.utilization_dt = pd.to_datetime(dt.utilization_dt)"
   ]
  },
  {
   "cell_type": "markdown",
   "metadata": {},
   "source": [
    "### Первичная обработка данных"
   ]
  },
  {
   "cell_type": "code",
   "execution_count": 5,
   "metadata": {},
   "outputs": [
    {
     "data": {
      "text/plain": [
       "(194215, 18)"
      ]
     },
     "execution_count": 5,
     "metadata": {},
     "output_type": "execute_result"
    },
    {
     "data": {
      "image/png": "[encoded data removed]",
      "text/plain": [
       "<Figure size 432x288 with 1 Axes>"
      ]
     },
     "metadata": {
      "needs_background": "light"
     },
     "output_type": "display_data"
    }
   ],
   "source": [
    "dt.duration.hist()\n",
    "plt.title('текущий срок жизни кредита');\n",
    "# есть отрицательные значения - некорректность \n",
    "dt = dt[dt.duration >= 0]\n",
    "dt.shape"
   ]
  },
  {
   "cell_type": "code",
   "execution_count": 6,
   "metadata": {},
   "outputs": [
    {
     "data": {
      "text/plain": [
       "(159042, 18)"
      ]
     },
     "execution_count": 6,
     "metadata": {},
     "output_type": "execute_result"
    }
   ],
   "source": [
    "(dt.deb_coming < dt.deb_transactions).sum()\n",
    "# в дебетовых картах сумма поступлений меньше суммы транзакций. Некорректные данные\n",
    "dt = dt[dt.deb_coming >= dt.deb_transactions]\n",
    "dt.shape"
   ]
  },
  {
   "cell_type": "code",
   "execution_count": 7,
   "metadata": {},
   "outputs": [
    {
     "data": {
      "text/plain": [
       "(150792, 18)"
      ]
     },
     "execution_count": 7,
     "metadata": {},
     "output_type": "execute_result"
    },
    {
     "data": {
      "image/png": "[encoded data removed]",
      "text/plain": [
       "<Figure size 432x288 with 1 Axes>"
      ]
     },
     "metadata": {
      "needs_background": "light"
     },
     "output_type": "display_data"
    }
   ],
   "source": [
    "# dt.insurance_payment.value_counts()\n",
    "dt.mob_days.hist()\n",
    "plt.title('Кол-во дней в приложении')\n",
    "# есть отрицательное количество дней - некорректные данные\n",
    "dt = dt[dt.mob_days >= 0]\n",
    "dt.shape"
   ]
  },
  {
   "cell_type": "code",
   "execution_count": 8,
   "metadata": {},
   "outputs": [
    {
     "data": {
      "text/plain": [
       "1    111370\n",
       "0     39422\n",
       "Name: tarif_type, dtype: int64"
      ]
     },
     "execution_count": 8,
     "metadata": {},
     "output_type": "execute_result"
    }
   ],
   "source": [
    "dt.tarif_type = dt.tarif_type.map({'one': 1, 'not_one': 0})\n",
    "dt.tarif_type.value_counts()"
   ]
  },
  {
   "cell_type": "code",
   "execution_count": 9,
   "metadata": {},
   "outputs": [
    {
     "data": {
      "image/png": "[encoded data removed]",
      "text/plain": [
       "<Figure size 432x288 with 1 Axes>"
      ]
     },
     "metadata": {
      "needs_background": "light"
     },
     "output_type": "display_data"
    },
    {
     "data": {
      "image/png": "[encoded data removed]",
      "text/plain": [
       "<Figure size 432x288 with 1 Axes>"
      ]
     },
     "metadata": {
      "needs_background": "light"
     },
     "output_type": "display_data"
    },
    {
     "data": {
      "text/plain": [
       "(150621, 19)"
      ]
     },
     "execution_count": 9,
     "metadata": {},
     "output_type": "execute_result"
    }
   ],
   "source": [
    "dt.monthly_income_amt.hist()\n",
    "plt.title('income')\n",
    "plt.show();\n",
    "dt = dt[dt.monthly_income_amt >= 0]\n",
    "dt['monthly_income_amt_log'] =  np.log(dt.monthly_income_amt)\n",
    "dt.monthly_income_amt_log.hist()\n",
    "plt.title('log income')\n",
    "plt.show();\n",
    "dt.shape"
   ]
  },
  {
   "cell_type": "markdown",
   "metadata": {},
   "source": [
    "rp - размер регулярного платежа по кредиту\n",
    "\n",
    "initial_term - изначальный срок по кредиту\n",
    "\n",
    "sum_approved - одобренная сумма кредита\n",
    "\n",
    "approv_vs_request - отношение одобренной суммы к запрошенной"
   ]
  },
  {
   "cell_type": "code",
   "execution_count": 10,
   "metadata": {},
   "outputs": [
    {
     "data": {
      "text/plain": [
       "(122313, 19)"
      ]
     },
     "execution_count": 10,
     "metadata": {},
     "output_type": "execute_result"
    }
   ],
   "source": [
    "dt = dt[dt['rp'] * dt['initial_term'] >= dt.sum_approved] \n",
    "# Сумма выплат должна быть не меньше размера кредита\n",
    "dt.shape"
   ]
  },
  {
   "cell_type": "code",
   "execution_count": 11,
   "metadata": {},
   "outputs": [],
   "source": [
    "# dt = dt[dt['approv_vs_request'] >= 0]\n",
    "# dt.shape\n",
    "# не будем использовать эту переменную, так как ее чистка убирает большую долю наблюдений"
   ]
  },
  {
   "cell_type": "code",
   "execution_count": 48,
   "metadata": {},
   "outputs": [
    {
     "data": {
      "text/plain": [
       "14"
      ]
     },
     "execution_count": 48,
     "metadata": {},
     "output_type": "execute_result"
    }
   ],
   "source": [
    "features = ['credit_type', 'duration', 'deb_coming',\n",
    "       'deb_transactions', 'insurance_payment', 'mob_days', 'tarif_type',\n",
    "       'rp', 'initial_term', 'sum_approved',\n",
    "       'loyalty_coeff', 'segment', \n",
    "       'pd_model', 'monthly_income_amt_log']\n",
    "len(features)"
   ]
  },
  {
   "cell_type": "markdown",
   "metadata": {},
   "source": [
    "### Целевая переменная\n",
    "\n",
    "Основная цель: построить модель, которая будет предсказывать вероятность закрытия кредита раньше половины срока. \n",
    "1, если кредит закрыт и duration меньше половины начального срока\n",
    "0, иначе"
   ]
  },
  {
   "cell_type": "code",
   "execution_count": 12,
   "metadata": {},
   "outputs": [],
   "source": [
    "dt['target'] = 0\n",
    "dt.loc[(dt.duration < (dt.initial_term / 2)) & (dt['closed_flg'] == 1), 'target'] = 1"
   ]
  },
  {
   "cell_type": "code",
   "execution_count": 13,
   "metadata": {},
   "outputs": [
    {
     "data": {
      "text/plain": [
       "0    108146\n",
       "1     14167\n",
       "Name: target, dtype: int64"
      ]
     },
     "execution_count": 13,
     "metadata": {},
     "output_type": "execute_result"
    }
   ],
   "source": [
    "dt.target.value_counts()"
   ]
  },
  {
   "cell_type": "code",
   "execution_count": 14,
   "metadata": {},
   "outputs": [
    {
     "data": {
      "text/plain": [
       "0    0.884174\n",
       "1    0.115826\n",
       "Name: target, dtype: float64"
      ]
     },
     "execution_count": 14,
     "metadata": {},
     "output_type": "execute_result"
    }
   ],
   "source": [
    "dt.target.value_counts(normalize=True)"
   ]
  },
  {
   "cell_type": "markdown",
   "metadata": {},
   "source": [
    "Классы несбалсированные, поэтому я попробую два варианта балансировки классов\n",
    "\n",
    "1. Из превалирующего класса будет выбрано столько случайных наблюдений, чтобы уровнять доли классов.\n",
    "2. Я исскуственно увеличу выборку малого класса, выбирая наблюдения с повторениями + уменьшу кол-во наблюдений превалирующего класса."
   ]
  },
  {
   "cell_type": "markdown",
   "metadata": {},
   "source": [
    "#### Вариант 1"
   ]
  },
  {
   "cell_type": "code",
   "execution_count": 50,
   "metadata": {},
   "outputs": [],
   "source": [
    "idx_for_balance = dt[dt.target == 0].sample(frac=1/7).index.to_list() + dt[dt.target == 1].index.to_list()"
   ]
  },
  {
   "cell_type": "code",
   "execution_count": 51,
   "metadata": {},
   "outputs": [],
   "source": [
    "dt_1 = dt.loc[idx_for_balance, :]"
   ]
  },
  {
   "cell_type": "code",
   "execution_count": 52,
   "metadata": {},
   "outputs": [
    {
     "name": "stdout",
     "output_type": "stream",
     "text": [
      "<class 'pandas.core.frame.DataFrame'>\n",
      "Int64Index: 28718 entries, 37822 to 202251\n",
      "Data columns (total 20 columns):\n",
      " #   Column                  Non-Null Count  Dtype         \n",
      "---  ------                  --------------  -----         \n",
      " 0   account_rk              28718 non-null  float64       \n",
      " 1   utilization_dt          28718 non-null  datetime64[ns]\n",
      " 2   credit_type             28718 non-null  int64         \n",
      " 3   duration                28718 non-null  float64       \n",
      " 4   deb_coming              28718 non-null  float64       \n",
      " 5   deb_transactions        28718 non-null  float64       \n",
      " 6   insurance_payment       28718 non-null  float64       \n",
      " 7   mob_days                28718 non-null  float64       \n",
      " 8   tarif_type              28718 non-null  int64         \n",
      " 9   monthly_income_amt      28718 non-null  float64       \n",
      " 10  rp                      28718 non-null  float64       \n",
      " 11  initial_term            28718 non-null  float64       \n",
      " 12  sum_approved            28718 non-null  float64       \n",
      " 13  approv_vs_request       28710 non-null  float64       \n",
      " 14  loyalty_coeff           28718 non-null  float64       \n",
      " 15  segment                 28718 non-null  float64       \n",
      " 16  closed_flg              28718 non-null  float64       \n",
      " 17  pd_model                28718 non-null  float64       \n",
      " 18  monthly_income_amt_log  28718 non-null  float64       \n",
      " 19  target                  28718 non-null  int64         \n",
      "dtypes: datetime64[ns](1), float64(16), int64(3)\n",
      "memory usage: 4.6 MB\n"
     ]
    }
   ],
   "source": [
    "dt_1.dropna(subset=features).info()\n",
    "# в сегменте и вероятности деволта нет данных, пока что попробуем их не использовать"
   ]
  },
  {
   "cell_type": "code",
   "execution_count": 53,
   "metadata": {},
   "outputs": [
    {
     "data": {
      "text/plain": [
       "0    14655\n",
       "1    14063\n",
       "Name: target, dtype: int64"
      ]
     },
     "execution_count": 53,
     "metadata": {},
     "output_type": "execute_result"
    }
   ],
   "source": [
    "dt_1.dropna(subset=features).target.value_counts()"
   ]
  },
  {
   "cell_type": "code",
   "execution_count": 54,
   "metadata": {},
   "outputs": [],
   "source": [
    "dt_1 = dt_1.dropna(subset=features)"
   ]
  },
  {
   "cell_type": "code",
   "execution_count": 55,
   "metadata": {},
   "outputs": [],
   "source": [
    "X_train, X_test, y_train, y_test = train_test_split(dt_1[features], dt_1['target'], test_size=0.3)"
   ]
  },
  {
   "cell_type": "code",
   "execution_count": 56,
   "metadata": {},
   "outputs": [],
   "source": [
    "model = RandomForestClassifier()\n",
    "model.fit(X_train, y_train)\n",
    "y_pred = model.predict(X_test)"
   ]
  },
  {
   "cell_type": "code",
   "execution_count": 57,
   "metadata": {},
   "outputs": [
    {
     "name": "stdout",
     "output_type": "stream",
     "text": [
      "[[2516 1863]\n",
      " [1137 3100]]\n",
      "              precision    recall  f1-score   support\n",
      "\n",
      "           0       0.57      0.69      0.63      3653\n",
      "           1       0.73      0.62      0.67      4963\n",
      "\n",
      "    accuracy                           0.65      8616\n",
      "   macro avg       0.65      0.66      0.65      8616\n",
      "weighted avg       0.67      0.65      0.65      8616\n",
      "\n"
     ]
    }
   ],
   "source": [
    "print(confusion_matrix(y_test,y_pred))\n",
    "print(classification_report(y_pred, y_test))"
   ]
  },
  {
   "cell_type": "code",
   "execution_count": 58,
   "metadata": {},
   "outputs": [],
   "source": [
    "y_pred = model.predict_proba(X_test)[:, 1]"
   ]
  },
  {
   "cell_type": "code",
   "execution_count": 60,
   "metadata": {},
   "outputs": [
    {
     "data": {
      "image/png": "[encoded data removed]",
      "text/plain": [
       "<Figure size 432x288 with 1 Axes>"
      ]
     },
     "metadata": {
      "needs_background": "light"
     },
     "output_type": "display_data"
    }
   ],
   "source": [
    "fpr, tpr, threshold = metrics.roc_curve(y_test, y_pred)\n",
    "roc_auc = metrics.auc(fpr, tpr)\n",
    "\n",
    "# method I: plt\n",
    "import matplotlib.pyplot as plt\n",
    "plt.title('Receiver Operating Characteristic')\n",
    "plt.plot(fpr, tpr, 'b', label = 'AUC = %0.2f' % roc_auc)\n",
    "plt.legend(loc = 'lower right')\n",
    "plt.plot([0, 1], [0, 1],'r--')\n",
    "plt.xlim([0, 1])\n",
    "plt.ylim([0, 1])\n",
    "plt.ylabel('True Positive Rate')\n",
    "plt.xlabel('False Positive Rate')\n",
    "plt.show()\n"
   ]
  },
  {
   "cell_type": "code",
   "execution_count": 62,
   "metadata": {},
   "outputs": [
    {
     "name": "stdout",
     "output_type": "stream",
     "text": [
      "auc=0.722\n"
     ]
    },
    {
     "data": {
      "image/png": "[encoded data removed]",
      "text/plain": [
       "<Figure size 432x288 with 1 Axes>"
      ]
     },
     "metadata": {
      "needs_background": "light"
     },
     "output_type": "display_data"
    }
   ],
   "source": [
    "lr_precision, lr_recall, _ = precision_recall_curve(y_test, y_pred)\n",
    "lr_auc = auc(lr_recall, lr_precision)\n",
    "print('auc=%.3f' % (lr_auc))\n",
    "\n",
    "# plot the precision-recall curves\n",
    "plt.plot(lr_recall, lr_precision, marker='.', label='Precision-Recall')\n",
    "# axis labels\n",
    "plt.xlabel('Recall')\n",
    "plt.ylabel('Precision')\n",
    "# show the legend\n",
    "plt.legend()\n",
    "# show the plot\n",
    "plt.show()"
   ]
  },
  {
   "cell_type": "code",
   "execution_count": 63,
   "metadata": {},
   "outputs": [
    {
     "data": {
      "text/plain": [
       "{'max_features': 11}"
      ]
     },
     "execution_count": 63,
     "metadata": {},
     "output_type": "execute_result"
    }
   ],
   "source": [
    "tree_params = {'max_features': range(5,14)              }\n",
    "tree_grid = GridSearchCV(RandomForestClassifier(), tree_params,cv=5, n_jobs=-1)\n",
    "tree_grid.fit(X_train, y_train)\n",
    "tree_grid.best_params_"
   ]
  },
  {
   "cell_type": "code",
   "execution_count": 64,
   "metadata": {},
   "outputs": [],
   "source": [
    "model = tree_grid.best_estimator_"
   ]
  },
  {
   "cell_type": "code",
   "execution_count": 65,
   "metadata": {},
   "outputs": [],
   "source": [
    "y_pr_best = model.predict_proba(X_test)[:, 1]\n",
    "y_predict = model.predict(X_test)"
   ]
  },
  {
   "cell_type": "code",
   "execution_count": 66,
   "metadata": {},
   "outputs": [
    {
     "name": "stdout",
     "output_type": "stream",
     "text": [
      "[[2494 1885]\n",
      " [1046 3191]]\n",
      "              precision    recall  f1-score   support\n",
      "\n",
      "           0       0.57      0.70      0.63      3540\n",
      "           1       0.75      0.63      0.69      5076\n",
      "\n",
      "    accuracy                           0.66      8616\n",
      "   macro avg       0.66      0.67      0.66      8616\n",
      "weighted avg       0.68      0.66      0.66      8616\n",
      "\n"
     ]
    }
   ],
   "source": [
    "print(confusion_matrix(y_test,y_predict))\n",
    "print(classification_report(y_predict, y_test))"
   ]
  },
  {
   "cell_type": "code",
   "execution_count": 68,
   "metadata": {},
   "outputs": [
    {
     "data": {
      "image/png": "[encoded data removed]",
      "text/plain": [
       "<Figure size 432x288 with 1 Axes>"
      ]
     },
     "metadata": {
      "needs_background": "light"
     },
     "output_type": "display_data"
    }
   ],
   "source": [
    "# TEST\n",
    "fpr, tpr, threshold = metrics.roc_curve(y_test, y_pr_best)\n",
    "roc_auc = metrics.auc(fpr, tpr)\n",
    "\n",
    "# method I: plt\n",
    "import matplotlib.pyplot as plt\n",
    "plt.title('Receiver Operating Characteristic')\n",
    "plt.plot(fpr, tpr, 'b', label = 'AUC = %0.2f' % roc_auc)\n",
    "plt.legend(loc = 'lower right')\n",
    "plt.plot([0, 1], [0, 1],'r--')\n",
    "plt.xlim([0, 1])\n",
    "plt.ylim([0, 1])\n",
    "plt.ylabel('True Positive Rate')\n",
    "plt.xlabel('False Positive Rate')\n",
    "plt.show()\n"
   ]
  },
  {
   "cell_type": "code",
   "execution_count": 67,
   "metadata": {},
   "outputs": [
    {
     "name": "stdout",
     "output_type": "stream",
     "text": [
      "auc=0.717\n"
     ]
    },
    {
     "data": {
      "image/png": "[encoded data removed]",
      "text/plain": [
       "<Figure size 432x288 with 1 Axes>"
      ]
     },
     "metadata": {
      "needs_background": "light"
     },
     "output_type": "display_data"
    }
   ],
   "source": [
    "lr_precision, lr_recall, _ = precision_recall_curve(y_test, y_pr_best)\n",
    "lr_auc = auc(lr_recall, lr_precision)\n",
    "print('auc=%.3f' % (lr_auc))\n",
    "\n",
    "# plot the precision-recall curves\n",
    "plt.plot(lr_recall, lr_precision, marker='.', label='Precision-Recall')\n",
    "# axis labels\n",
    "plt.xlabel('Recall')\n",
    "plt.ylabel('Precision')\n",
    "# show the legend\n",
    "plt.legend()\n",
    "# show the plot\n",
    "plt.show()"
   ]
  },
  {
   "cell_type": "code",
   "execution_count": 72,
   "metadata": {},
   "outputs": [
    {
     "data": {
      "text/plain": [
       "duration                  0.188192\n",
       "initial_term              0.102640\n",
       "pd_model                  0.086374\n",
       "deb_coming                0.086022\n",
       "deb_transactions          0.084616\n",
       "monthly_income_amt_log    0.084417\n",
       "rp                        0.083433\n",
       "sum_approved              0.074163\n",
       "insurance_payment         0.068092\n",
       "mob_days                  0.062270\n",
       "loyalty_coeff             0.046669\n",
       "segment                   0.017314\n",
       "tarif_type                0.008168\n",
       "credit_type               0.007630\n",
       "dtype: float64"
      ]
     },
     "execution_count": 72,
     "metadata": {},
     "output_type": "execute_result"
    }
   ],
   "source": [
    "#Важность переменных\n",
    "pd.Series(model.feature_importances_, index = features).sort_values(ascending=False)"
   ]
  },
  {
   "cell_type": "markdown",
   "metadata": {},
   "source": [
    "#### Вариант 2"
   ]
  },
  {
   "cell_type": "code",
   "execution_count": 76,
   "metadata": {},
   "outputs": [
    {
     "data": {
      "text/plain": [
       "0    27036\n",
       "1    21251\n",
       "Name: target, dtype: int64"
      ]
     },
     "execution_count": 76,
     "metadata": {},
     "output_type": "execute_result"
    }
   ],
   "source": [
    "one_for_balance = dt[dt.target == 1].sample(frac=1/2).index.to_list() + dt[dt.target == 1].index.to_list()+ dt[dt.target == 0].sample(frac=1/4).index.to_list()\n",
    "dt_2 = dt.loc[one_for_balance, :]\n",
    "dt_2.target.value_counts()"
   ]
  },
  {
   "cell_type": "code",
   "execution_count": 77,
   "metadata": {},
   "outputs": [],
   "source": [
    "dt_2 = dt_2.dropna(subset=features)"
   ]
  },
  {
   "cell_type": "code",
   "execution_count": 78,
   "metadata": {},
   "outputs": [],
   "source": [
    "X_train, X_test, y_train, y_test = train_test_split(dt_2[features], dt_2['target'], test_size=0.3)"
   ]
  },
  {
   "cell_type": "code",
   "execution_count": 79,
   "metadata": {},
   "outputs": [],
   "source": [
    "model = RandomForestClassifier()\n",
    "model.fit(X_train, y_train)\n",
    "y_pred = model.predict(X_test)"
   ]
  },
  {
   "cell_type": "code",
   "execution_count": 80,
   "metadata": {},
   "outputs": [
    {
     "name": "stdout",
     "output_type": "stream",
     "text": [
      "[[6183 1597]\n",
      " [1768 4483]]\n",
      "              precision    recall  f1-score   support\n",
      "\n",
      "           0       0.79      0.78      0.79      7951\n",
      "           1       0.72      0.74      0.73      6080\n",
      "\n",
      "    accuracy                           0.76     14031\n",
      "   macro avg       0.76      0.76      0.76     14031\n",
      "weighted avg       0.76      0.76      0.76     14031\n",
      "\n"
     ]
    }
   ],
   "source": [
    "print(confusion_matrix(y_test,y_pred))\n",
    "print(classification_report(y_pred, y_test))"
   ]
  },
  {
   "cell_type": "code",
   "execution_count": 81,
   "metadata": {},
   "outputs": [],
   "source": [
    "y_pred = model.predict_proba(X_test)[:, 1]"
   ]
  },
  {
   "cell_type": "code",
   "execution_count": 83,
   "metadata": {},
   "outputs": [
    {
     "data": {
      "image/png": "[encoded data removed]",
      "text/plain": [
       "<Figure size 432x288 with 1 Axes>"
      ]
     },
     "metadata": {
      "needs_background": "light"
     },
     "output_type": "display_data"
    }
   ],
   "source": [
    "fpr, tpr, threshold = metrics.roc_curve(y_test, y_pred)\n",
    "roc_auc = metrics.auc(fpr, tpr)\n",
    "\n",
    "# method I: plt\n",
    "import matplotlib.pyplot as plt\n",
    "plt.title('Receiver Operating Characteristic')\n",
    "plt.plot(fpr, tpr, 'b', label = 'AUC = %0.2f' % roc_auc)\n",
    "plt.legend(loc = 'lower right')\n",
    "plt.plot([0, 1], [0, 1],'r--')\n",
    "plt.xlim([0, 1])\n",
    "plt.ylim([0, 1])\n",
    "plt.ylabel('True Positive Rate')\n",
    "plt.xlabel('False Positive Rate')\n",
    "plt.show()\n"
   ]
  },
  {
   "cell_type": "code",
   "execution_count": 84,
   "metadata": {},
   "outputs": [
    {
     "name": "stdout",
     "output_type": "stream",
     "text": [
      "auc=0.854\n"
     ]
    },
    {
     "data": {
      "image/png": "[encoded data removed]",
      "text/plain": [
       "<Figure size 432x288 with 1 Axes>"
      ]
     },
     "metadata": {
      "needs_background": "light"
     },
     "output_type": "display_data"
    }
   ],
   "source": [
    "from sklearn.metrics import precision_recall_curve\n",
    "from sklearn.metrics import auc\n",
    "\n",
    "\n",
    "lr_precision, lr_recall, _ = precision_recall_curve(y_test, y_pred)\n",
    "lr_auc = auc(lr_recall, lr_precision)\n",
    "print('auc=%.3f' % (lr_auc))\n",
    "\n",
    "# plot the precision-recall curves\n",
    "plt.plot(lr_recall, lr_precision, marker='.', label='Precision-Recall')\n",
    "# axis labels\n",
    "plt.xlabel('Recall')\n",
    "plt.ylabel('Precision')\n",
    "# show the legend\n",
    "plt.legend()\n",
    "# show the plot\n",
    "plt.show()"
   ]
  },
  {
   "cell_type": "code",
   "execution_count": 85,
   "metadata": {},
   "outputs": [
    {
     "data": {
      "text/plain": [
       "{'max_features': 5}"
      ]
     },
     "execution_count": 85,
     "metadata": {},
     "output_type": "execute_result"
    }
   ],
   "source": [
    "tree_params = {'max_features': range(5,10)}\n",
    "tree_grid = GridSearchCV(RandomForestClassifier(), tree_params,cv=5, n_jobs=-1)\n",
    "tree_grid.fit(X_train, y_train)\n",
    "tree_grid.best_params_"
   ]
  },
  {
   "cell_type": "code",
   "execution_count": 86,
   "metadata": {},
   "outputs": [],
   "source": [
    "model = tree_grid.best_estimator_"
   ]
  },
  {
   "cell_type": "code",
   "execution_count": 87,
   "metadata": {},
   "outputs": [],
   "source": [
    "y_pr_best = model.predict_proba(X_test)[:, 1]\n",
    "y_predict = model.predict(X_test)"
   ]
  },
  {
   "cell_type": "code",
   "execution_count": 88,
   "metadata": {},
   "outputs": [
    {
     "name": "stdout",
     "output_type": "stream",
     "text": [
      "[[6112 1668]\n",
      " [1746 4505]]\n",
      "              precision    recall  f1-score   support\n",
      "\n",
      "           0       0.79      0.78      0.78      7858\n",
      "           1       0.72      0.73      0.73      6173\n",
      "\n",
      "    accuracy                           0.76     14031\n",
      "   macro avg       0.75      0.75      0.75     14031\n",
      "weighted avg       0.76      0.76      0.76     14031\n",
      "\n"
     ]
    }
   ],
   "source": [
    "print(confusion_matrix(y_test,y_predict))\n",
    "print(classification_report(y_predict, y_test))"
   ]
  },
  {
   "cell_type": "code",
   "execution_count": 89,
   "metadata": {},
   "outputs": [
    {
     "name": "stdout",
     "output_type": "stream",
     "text": [
      "auc=0.851\n"
     ]
    },
    {
     "data": {
      "image/png": "[encoded data removed]",
      "text/plain": [
       "<Figure size 432x288 with 1 Axes>"
      ]
     },
     "metadata": {
      "needs_background": "light"
     },
     "output_type": "display_data"
    }
   ],
   "source": [
    "lr_precision, lr_recall, _ = precision_recall_curve(y_test, y_pr_best)\n",
    "lr_auc = auc(lr_recall, lr_precision)\n",
    "print('auc=%.3f' % (lr_auc))\n",
    "\n",
    "# plot the precision-recall curves\n",
    "plt.plot(lr_recall, lr_precision, marker='.', label='Precision-Recall')\n",
    "# axis labels\n",
    "plt.xlabel('Recall')\n",
    "plt.ylabel('Precision')\n",
    "# show the legend\n",
    "plt.legend()\n",
    "# show the plot\n",
    "plt.show()"
   ]
  },
  {
   "cell_type": "code",
   "execution_count": 90,
   "metadata": {},
   "outputs": [
    {
     "data": {
      "image/png": "[encoded data removed]",
      "text/plain": [
       "<Figure size 432x288 with 1 Axes>"
      ]
     },
     "metadata": {
      "needs_background": "light"
     },
     "output_type": "display_data"
    }
   ],
   "source": [
    "fpr, tpr, threshold = metrics.roc_curve(y_test, y_pr_best)\n",
    "roc_auc = metrics.auc(fpr, tpr)\n",
    "\n",
    "# method I: plt\n",
    "import matplotlib.pyplot as plt\n",
    "plt.title('Receiver Operating Characteristic')\n",
    "plt.plot(fpr, tpr, 'b', label = 'AUC = %0.2f' % roc_auc)\n",
    "plt.legend(loc = 'lower right')\n",
    "plt.plot([0, 1], [0, 1],'r--')\n",
    "plt.xlim([0, 1])\n",
    "plt.ylim([0, 1])\n",
    "plt.ylabel('True Positive Rate')\n",
    "plt.xlabel('False Positive Rate')\n",
    "plt.show()\n"
   ]
  },
  {
   "cell_type": "code",
   "execution_count": 91,
   "metadata": {},
   "outputs": [
    {
     "data": {
      "text/plain": [
       "duration                  0.173120\n",
       "initial_term              0.094204\n",
       "deb_coming                0.089334\n",
       "pd_model                  0.087201\n",
       "monthly_income_amt_log    0.087104\n",
       "deb_transactions          0.086734\n",
       "rp                        0.085293\n",
       "sum_approved              0.076832\n",
       "insurance_payment         0.068253\n",
       "mob_days                  0.064339\n",
       "loyalty_coeff             0.049275\n",
       "segment                   0.018610\n",
       "credit_type               0.010037\n",
       "tarif_type                0.009664\n",
       "dtype: float64"
      ]
     },
     "execution_count": 91,
     "metadata": {},
     "output_type": "execute_result"
    }
   ],
   "source": [
    "pd.Series(model.feature_importances_, index = features).sort_values(ascending=False)\n",
    "# for k, val in enumerate(model.feature_importances_):\n",
    "#     print('feature {0} : impotance {1}'.format(features[k], round(val,3)))"
   ]
  },
  {
   "cell_type": "markdown",
   "metadata": {},
   "source": [
    "### Стабильность оценок\n",
    "\n",
    "Проверяется периодически за какой-то промежуток времени, определяется точность предсказаний, и если она значительно меньше, то необходимо рассмотреть данные и понять, что изменилось. Может быть в модель необходимо добавить сезонность. "
   ]
  },
  {
   "cell_type": "code",
   "execution_count": null,
   "metadata": {},
   "outputs": [],
   "source": []
  }
 ],
 "metadata": {
  "kernelspec": {
   "display_name": "Python 3",
   "language": "python",
   "name": "python3"
  },
  "language_info": {
   "codemirror_mode": {
    "name": "ipython",
    "version": 3
   },
   "file_extension": ".py",
   "mimetype": "text/x-python",
   "name": "python",
   "nbconvert_exporter": "python",
   "pygments_lexer": "ipython3",
   "version": "3.8.5"
  }
 },
 "nbformat": 4,
 "nbformat_minor": 4
}
